{
 "cells": [
  {
   "cell_type": "markdown",
   "metadata": {},
   "source": [
    "<center>\n",
    "<img src='data/logo.png'>\n",
    "</center>"
   ]
  },
  {
   "cell_type": "markdown",
   "metadata": {},
   "source": [
    "# ¿ QUIEN SOY ?"
   ]
  },
  {
   "cell_type": "markdown",
   "metadata": {},
   "source": [
    "# https://www.linkedin.com/in/victor-villacorta-plasencia-9595a2125/"
   ]
  },
  {
   "cell_type": "markdown",
   "metadata": {},
   "source": [
    "<center>\n",
    "<img src='https://s3.us-east-2.amazonaws.com/quipuai.com/logoquipu.png' width='300'>\n",
    "</center>"
   ]
  },
  {
   "cell_type": "code",
   "execution_count": null,
   "metadata": {},
   "outputs": [],
   "source": []
  },
  {
   "cell_type": "markdown",
   "metadata": {},
   "source": [
    "# LIMPIEZA DE DATOS"
   ]
  },
  {
   "cell_type": "code",
   "execution_count": 1,
   "metadata": {},
   "outputs": [
    {
     "name": "stdout",
     "output_type": "stream",
     "text": [
      "['MXvideos.csv', 'CAvideos.csv', 'MX_category_id.json', 'logo.png', 'CA_category_id.json']\n"
     ]
    },
    {
     "data": {
      "text/plain": [
       "0"
      ]
     },
     "execution_count": 1,
     "metadata": {},
     "output_type": "execute_result"
    }
   ],
   "source": [
    "# nativos\n",
    "import os\n",
    "import gc\n",
    "\n",
    "# manejo de datos\n",
    "import pandas as pd\n",
    "import numpy as np\n",
    "\n",
    "subfolder = \"data\"\n",
    "print(os.listdir(subfolder))\n",
    "\n",
    "gc.collect()"
   ]
  },
  {
   "cell_type": "markdown",
   "metadata": {},
   "source": [
    "### 1ERO NOCIONES DE PYTHON CLARAS"
   ]
  },
  {
   "cell_type": "code",
   "execution_count": 84,
   "metadata": {},
   "outputs": [
    {
     "data": {
      "text/plain": [
       "'Debe ingresar dos valores como minimo'"
      ]
     },
     "execution_count": 84,
     "metadata": {},
     "output_type": "execute_result"
    }
   ],
   "source": [
    "def calculadora(*args, **kwargs):\n",
    "    operacion = kwargs.get('operacion', 'suma')\n",
    "    \n",
    "    if len(args) < 2:\n",
    "        return 'Debe ingresar dos valores como minimo'\n",
    "\n",
    "    val1 = args[0]\n",
    "    val2 = args[1]\n",
    "    \n",
    "    if operacion == 'suma':\n",
    "        return sum(args)\n",
    "    elif operacion == 'resta':\n",
    "        return val1 - val2\n",
    "    elif operacion == 'division':\n",
    "        return val1 / val2\n",
    "    elif operacion == 'multiplicacion':\n",
    "        return val1 * val2\n",
    "    else:\n",
    "        return 'Operador no identificado'\n",
    "\n",
    "calculadora(5, operacion='division')"
   ]
  },
  {
   "cell_type": "code",
   "execution_count": 85,
   "metadata": {},
   "outputs": [
    {
     "data": {
      "text/plain": [
       "17"
      ]
     },
     "execution_count": 85,
     "metadata": {},
     "output_type": "execute_result"
    }
   ],
   "source": [
    "calculadora(14, 3, operacion='suma')"
   ]
  },
  {
   "cell_type": "code",
   "execution_count": 86,
   "metadata": {},
   "outputs": [
    {
     "data": {
      "text/plain": [
       "'Operador no identificado'"
      ]
     },
     "execution_count": 86,
     "metadata": {},
     "output_type": "execute_result"
    }
   ],
   "source": [
    "calculadora(14, 3, operacion='loqueesea')"
   ]
  },
  {
   "cell_type": "code",
   "execution_count": 87,
   "metadata": {},
   "outputs": [
    {
     "data": {
      "text/plain": [
       "13"
      ]
     },
     "execution_count": 87,
     "metadata": {},
     "output_type": "execute_result"
    }
   ],
   "source": [
    "# DICCIONARIO COMO CONDICIONAL\n",
    "\n",
    "def suma(x, y):\n",
    "    return x + y\n",
    "\n",
    "dicc_calc = {\n",
    "    'suma': suma,\n",
    "    'resta': lambda x, y: x -y,\n",
    "    'division': lambda x, y: x / y,\n",
    "    'multiplicacion': lambda x, y: x * y\n",
    "}\n",
    "\n",
    "\n",
    "def calc(val1, val2, operacion='suma'):\n",
    "    \"\"\"\n",
    "    Descripcion de mi funcion\n",
    "    \"\"\"\n",
    "    return dicc_calc.get(\n",
    "        operacion, lambda x,y: 'Operador no reconocido'\n",
    "    )(val1, val2)\n",
    "\n",
    "calc(6, 7)"
   ]
  },
  {
   "cell_type": "code",
   "execution_count": 88,
   "metadata": {},
   "outputs": [
    {
     "data": {
      "text/plain": [
       "'Operador no reconocido'"
      ]
     },
     "execution_count": 88,
     "metadata": {},
     "output_type": "execute_result"
    }
   ],
   "source": [
    "calc(6, 7, 'sumaaaaaaaaaaaaaaaa')"
   ]
  },
  {
   "cell_type": "code",
   "execution_count": 89,
   "metadata": {},
   "outputs": [
    {
     "name": "stdout",
     "output_type": "stream",
     "text": [
      "Help on function calc in module __main__:\n",
      "\n",
      "calc(val1, val2, operacion='suma')\n",
      "    Descripcion de mi funcion\n",
      "\n"
     ]
    }
   ],
   "source": [
    "help(calc)"
   ]
  },
  {
   "cell_type": "markdown",
   "metadata": {},
   "source": [
    "# 2DO LECTURA DE CVS"
   ]
  },
  {
   "cell_type": "code",
   "execution_count": 2,
   "metadata": {},
   "outputs": [
    {
     "ename": "UnicodeDecodeError",
     "evalue": "'utf-8' codec can't decode byte 0xc3 in position 254: unexpected end of data",
     "output_type": "error",
     "traceback": [
      "\u001b[0;31m---------------------------------------------------------------------------\u001b[0m",
      "\u001b[0;31mUnicodeDecodeError\u001b[0m                        Traceback (most recent call last)",
      "\u001b[0;32mpandas/_libs/parsers.pyx\u001b[0m in \u001b[0;36mpandas._libs.parsers.TextReader._convert_tokens\u001b[0;34m()\u001b[0m\n",
      "\u001b[0;32mpandas/_libs/parsers.pyx\u001b[0m in \u001b[0;36mpandas._libs.parsers.TextReader._convert_with_dtype\u001b[0;34m()\u001b[0m\n",
      "\u001b[0;32mpandas/_libs/parsers.pyx\u001b[0m in \u001b[0;36mpandas._libs.parsers.TextReader._string_convert\u001b[0;34m()\u001b[0m\n",
      "\u001b[0;32mpandas/_libs/parsers.pyx\u001b[0m in \u001b[0;36mpandas._libs.parsers._string_box_utf8\u001b[0;34m()\u001b[0m\n",
      "\u001b[0;31mUnicodeDecodeError\u001b[0m: 'utf-8' codec can't decode byte 0xc3 in position 254: unexpected end of data",
      "\nDuring handling of the above exception, another exception occurred:\n",
      "\u001b[0;31mUnicodeDecodeError\u001b[0m                        Traceback (most recent call last)",
      "\u001b[0;32m<ipython-input-2-6c72c2a5a1bb>\u001b[0m in \u001b[0;36m<module>\u001b[0;34m\u001b[0m\n\u001b[0;32m----> 1\u001b[0;31m \u001b[0mdata_mx\u001b[0m \u001b[0;34m=\u001b[0m \u001b[0mpd\u001b[0m\u001b[0;34m.\u001b[0m\u001b[0mread_csv\u001b[0m\u001b[0;34m(\u001b[0m\u001b[0;34m'data/MXvideos.csv'\u001b[0m\u001b[0;34m)\u001b[0m\u001b[0;34m\u001b[0m\u001b[0m\n\u001b[0m",
      "\u001b[0;32m~/anaconda3/lib/python3.6/site-packages/pandas/io/parsers.py\u001b[0m in \u001b[0;36mparser_f\u001b[0;34m(filepath_or_buffer, sep, delimiter, header, names, index_col, usecols, squeeze, prefix, mangle_dupe_cols, dtype, engine, converters, true_values, false_values, skipinitialspace, skiprows, nrows, na_values, keep_default_na, na_filter, verbose, skip_blank_lines, parse_dates, infer_datetime_format, keep_date_col, date_parser, dayfirst, iterator, chunksize, compression, thousands, decimal, lineterminator, quotechar, quoting, escapechar, comment, encoding, dialect, tupleize_cols, error_bad_lines, warn_bad_lines, skipfooter, doublequote, delim_whitespace, low_memory, memory_map, float_precision)\u001b[0m\n\u001b[1;32m    676\u001b[0m                     skip_blank_lines=skip_blank_lines)\n\u001b[1;32m    677\u001b[0m \u001b[0;34m\u001b[0m\u001b[0m\n\u001b[0;32m--> 678\u001b[0;31m         \u001b[0;32mreturn\u001b[0m \u001b[0m_read\u001b[0m\u001b[0;34m(\u001b[0m\u001b[0mfilepath_or_buffer\u001b[0m\u001b[0;34m,\u001b[0m \u001b[0mkwds\u001b[0m\u001b[0;34m)\u001b[0m\u001b[0;34m\u001b[0m\u001b[0m\n\u001b[0m\u001b[1;32m    679\u001b[0m \u001b[0;34m\u001b[0m\u001b[0m\n\u001b[1;32m    680\u001b[0m     \u001b[0mparser_f\u001b[0m\u001b[0;34m.\u001b[0m\u001b[0m__name__\u001b[0m \u001b[0;34m=\u001b[0m \u001b[0mname\u001b[0m\u001b[0;34m\u001b[0m\u001b[0m\n",
      "\u001b[0;32m~/anaconda3/lib/python3.6/site-packages/pandas/io/parsers.py\u001b[0m in \u001b[0;36m_read\u001b[0;34m(filepath_or_buffer, kwds)\u001b[0m\n\u001b[1;32m    444\u001b[0m \u001b[0;34m\u001b[0m\u001b[0m\n\u001b[1;32m    445\u001b[0m     \u001b[0;32mtry\u001b[0m\u001b[0;34m:\u001b[0m\u001b[0;34m\u001b[0m\u001b[0m\n\u001b[0;32m--> 446\u001b[0;31m         \u001b[0mdata\u001b[0m \u001b[0;34m=\u001b[0m \u001b[0mparser\u001b[0m\u001b[0;34m.\u001b[0m\u001b[0mread\u001b[0m\u001b[0;34m(\u001b[0m\u001b[0mnrows\u001b[0m\u001b[0;34m)\u001b[0m\u001b[0;34m\u001b[0m\u001b[0m\n\u001b[0m\u001b[1;32m    447\u001b[0m     \u001b[0;32mfinally\u001b[0m\u001b[0;34m:\u001b[0m\u001b[0;34m\u001b[0m\u001b[0m\n\u001b[1;32m    448\u001b[0m         \u001b[0mparser\u001b[0m\u001b[0;34m.\u001b[0m\u001b[0mclose\u001b[0m\u001b[0;34m(\u001b[0m\u001b[0;34m)\u001b[0m\u001b[0;34m\u001b[0m\u001b[0m\n",
      "\u001b[0;32m~/anaconda3/lib/python3.6/site-packages/pandas/io/parsers.py\u001b[0m in \u001b[0;36mread\u001b[0;34m(self, nrows)\u001b[0m\n\u001b[1;32m   1034\u001b[0m                 \u001b[0;32mraise\u001b[0m \u001b[0mValueError\u001b[0m\u001b[0;34m(\u001b[0m\u001b[0;34m'skipfooter not supported for iteration'\u001b[0m\u001b[0;34m)\u001b[0m\u001b[0;34m\u001b[0m\u001b[0m\n\u001b[1;32m   1035\u001b[0m \u001b[0;34m\u001b[0m\u001b[0m\n\u001b[0;32m-> 1036\u001b[0;31m         \u001b[0mret\u001b[0m \u001b[0;34m=\u001b[0m \u001b[0mself\u001b[0m\u001b[0;34m.\u001b[0m\u001b[0m_engine\u001b[0m\u001b[0;34m.\u001b[0m\u001b[0mread\u001b[0m\u001b[0;34m(\u001b[0m\u001b[0mnrows\u001b[0m\u001b[0;34m)\u001b[0m\u001b[0;34m\u001b[0m\u001b[0m\n\u001b[0m\u001b[1;32m   1037\u001b[0m \u001b[0;34m\u001b[0m\u001b[0m\n\u001b[1;32m   1038\u001b[0m         \u001b[0;31m# May alter columns / col_dict\u001b[0m\u001b[0;34m\u001b[0m\u001b[0;34m\u001b[0m\u001b[0m\n",
      "\u001b[0;32m~/anaconda3/lib/python3.6/site-packages/pandas/io/parsers.py\u001b[0m in \u001b[0;36mread\u001b[0;34m(self, nrows)\u001b[0m\n\u001b[1;32m   1846\u001b[0m     \u001b[0;32mdef\u001b[0m \u001b[0mread\u001b[0m\u001b[0;34m(\u001b[0m\u001b[0mself\u001b[0m\u001b[0;34m,\u001b[0m \u001b[0mnrows\u001b[0m\u001b[0;34m=\u001b[0m\u001b[0;32mNone\u001b[0m\u001b[0;34m)\u001b[0m\u001b[0;34m:\u001b[0m\u001b[0;34m\u001b[0m\u001b[0m\n\u001b[1;32m   1847\u001b[0m         \u001b[0;32mtry\u001b[0m\u001b[0;34m:\u001b[0m\u001b[0;34m\u001b[0m\u001b[0m\n\u001b[0;32m-> 1848\u001b[0;31m             \u001b[0mdata\u001b[0m \u001b[0;34m=\u001b[0m \u001b[0mself\u001b[0m\u001b[0;34m.\u001b[0m\u001b[0m_reader\u001b[0m\u001b[0;34m.\u001b[0m\u001b[0mread\u001b[0m\u001b[0;34m(\u001b[0m\u001b[0mnrows\u001b[0m\u001b[0;34m)\u001b[0m\u001b[0;34m\u001b[0m\u001b[0m\n\u001b[0m\u001b[1;32m   1849\u001b[0m         \u001b[0;32mexcept\u001b[0m \u001b[0mStopIteration\u001b[0m\u001b[0;34m:\u001b[0m\u001b[0;34m\u001b[0m\u001b[0m\n\u001b[1;32m   1850\u001b[0m             \u001b[0;32mif\u001b[0m \u001b[0mself\u001b[0m\u001b[0;34m.\u001b[0m\u001b[0m_first_chunk\u001b[0m\u001b[0;34m:\u001b[0m\u001b[0;34m\u001b[0m\u001b[0m\n",
      "\u001b[0;32mpandas/_libs/parsers.pyx\u001b[0m in \u001b[0;36mpandas._libs.parsers.TextReader.read\u001b[0;34m()\u001b[0m\n",
      "\u001b[0;32mpandas/_libs/parsers.pyx\u001b[0m in \u001b[0;36mpandas._libs.parsers.TextReader._read_low_memory\u001b[0;34m()\u001b[0m\n",
      "\u001b[0;32mpandas/_libs/parsers.pyx\u001b[0m in \u001b[0;36mpandas._libs.parsers.TextReader._read_rows\u001b[0;34m()\u001b[0m\n",
      "\u001b[0;32mpandas/_libs/parsers.pyx\u001b[0m in \u001b[0;36mpandas._libs.parsers.TextReader._convert_column_data\u001b[0;34m()\u001b[0m\n",
      "\u001b[0;32mpandas/_libs/parsers.pyx\u001b[0m in \u001b[0;36mpandas._libs.parsers.TextReader._convert_tokens\u001b[0;34m()\u001b[0m\n",
      "\u001b[0;32mpandas/_libs/parsers.pyx\u001b[0m in \u001b[0;36mpandas._libs.parsers.TextReader._convert_with_dtype\u001b[0;34m()\u001b[0m\n",
      "\u001b[0;32mpandas/_libs/parsers.pyx\u001b[0m in \u001b[0;36mpandas._libs.parsers.TextReader._string_convert\u001b[0;34m()\u001b[0m\n",
      "\u001b[0;32mpandas/_libs/parsers.pyx\u001b[0m in \u001b[0;36mpandas._libs.parsers._string_box_utf8\u001b[0;34m()\u001b[0m\n",
      "\u001b[0;31mUnicodeDecodeError\u001b[0m: 'utf-8' codec can't decode byte 0xc3 in position 254: unexpected end of data"
     ]
    }
   ],
   "source": [
    "data_mx = pd.read_csv('data/MXvideos.csv')"
   ]
  },
  {
   "cell_type": "markdown",
   "metadata": {},
   "source": [
    "### ¿Porque fallo?"
   ]
  },
  {
   "cell_type": "markdown",
   "metadata": {},
   "source": [
    "#### revisar link https://es.wikipedia.org/wiki/Codificaci%C3%B3n_de_caracteres"
   ]
  },
  {
   "cell_type": "code",
   "execution_count": 7,
   "metadata": {},
   "outputs": [
    {
     "data": {
      "text/html": [
       "<div>\n",
       "<style scoped>\n",
       "    .dataframe tbody tr th:only-of-type {\n",
       "        vertical-align: middle;\n",
       "    }\n",
       "\n",
       "    .dataframe tbody tr th {\n",
       "        vertical-align: top;\n",
       "    }\n",
       "\n",
       "    .dataframe thead th {\n",
       "        text-align: right;\n",
       "    }\n",
       "</style>\n",
       "<table border=\"1\" class=\"dataframe\">\n",
       "  <thead>\n",
       "    <tr style=\"text-align: right;\">\n",
       "      <th></th>\n",
       "      <th>video_id</th>\n",
       "      <th>trending_date</th>\n",
       "      <th>title</th>\n",
       "      <th>channel_title</th>\n",
       "      <th>category_id</th>\n",
       "      <th>publish_time</th>\n",
       "      <th>tags</th>\n",
       "      <th>views</th>\n",
       "      <th>likes</th>\n",
       "      <th>dislikes</th>\n",
       "      <th>comment_count</th>\n",
       "      <th>thumbnail_link</th>\n",
       "      <th>comments_disabled</th>\n",
       "      <th>ratings_disabled</th>\n",
       "      <th>video_error_or_removed</th>\n",
       "      <th>description</th>\n",
       "    </tr>\n",
       "  </thead>\n",
       "  <tbody>\n",
       "    <tr>\n",
       "      <th>0</th>\n",
       "      <td>SbOwzAl9ZfQ</td>\n",
       "      <td>17.14.11</td>\n",
       "      <td>CapÃ­tulo 12 | MasterChef 2017</td>\n",
       "      <td>MasterChef 2017</td>\n",
       "      <td>24</td>\n",
       "      <td>2017-11-13T06:06:22.000Z</td>\n",
       "      <td>MasterChef Junior 2017|\"TV Azteca\"|\"recetas\"|\"...</td>\n",
       "      <td>310130</td>\n",
       "      <td>4182</td>\n",
       "      <td>361</td>\n",
       "      <td>1836</td>\n",
       "      <td>https://i.ytimg.com/vi/SbOwzAl9ZfQ/default.jpg</td>\n",
       "      <td>False</td>\n",
       "      <td>False</td>\n",
       "      <td>False</td>\n",
       "      <td>Disfruta la presencia del Chef Torreblanca en ...</td>\n",
       "    </tr>\n",
       "    <tr>\n",
       "      <th>1</th>\n",
       "      <td>klOV6Xh-DnI</td>\n",
       "      <td>17.14.11</td>\n",
       "      <td>ALEXA EX-INTEGRANTE DEL GRUPO TIMBIRICHE RENUN...</td>\n",
       "      <td>Micky Contreras Martinez</td>\n",
       "      <td>22</td>\n",
       "      <td>2017-11-13T05:11:58.000Z</td>\n",
       "      <td>La Voz Mexico 7</td>\n",
       "      <td>104972</td>\n",
       "      <td>271</td>\n",
       "      <td>174</td>\n",
       "      <td>369</td>\n",
       "      <td>https://i.ytimg.com/vi/klOV6Xh-DnI/default.jpg</td>\n",
       "      <td>False</td>\n",
       "      <td>False</td>\n",
       "      <td>False</td>\n",
       "      <td>ALEXA EX-INTEGRANTE DEL GRUPO TIMBIRICHE RENUN...</td>\n",
       "    </tr>\n",
       "    <tr>\n",
       "      <th>2</th>\n",
       "      <td>6L2ZF7Qzsbk</td>\n",
       "      <td>17.14.11</td>\n",
       "      <td>LOUIS CKAGÃ - EL PULSO DE LA REPÃBLICA</td>\n",
       "      <td>El Pulso De La RepÃºblica</td>\n",
       "      <td>25</td>\n",
       "      <td>2017-11-13T17:00:02.000Z</td>\n",
       "      <td>Chumel Torres|\"El Pulso de la Republica\"|\"noti...</td>\n",
       "      <td>136064</td>\n",
       "      <td>10105</td>\n",
       "      <td>266</td>\n",
       "      <td>607</td>\n",
       "      <td>https://i.ytimg.com/vi/6L2ZF7Qzsbk/default.jpg</td>\n",
       "      <td>False</td>\n",
       "      <td>False</td>\n",
       "      <td>False</td>\n",
       "      <td>La canciÃ³n del principio se llama âEste esp...</td>\n",
       "    </tr>\n",
       "    <tr>\n",
       "      <th>3</th>\n",
       "      <td>hcY52MFWMDM</td>\n",
       "      <td>17.14.11</td>\n",
       "      <td>Sismo de 6.7 sacude Costa Rica 12 Noviembre 2017</td>\n",
       "      <td>Casanare</td>\n",
       "      <td>25</td>\n",
       "      <td>2017-11-13T03:47:10.000Z</td>\n",
       "      <td>temblor|\"costa rica\"|\"sismo en costa rica\"</td>\n",
       "      <td>96153</td>\n",
       "      <td>378</td>\n",
       "      <td>171</td>\n",
       "      <td>208</td>\n",
       "      <td>https://i.ytimg.com/vi/hcY52MFWMDM/default.jpg</td>\n",
       "      <td>False</td>\n",
       "      <td>False</td>\n",
       "      <td>False</td>\n",
       "      <td>El video es de un Walmart en el pais centroame...</td>\n",
       "    </tr>\n",
       "    <tr>\n",
       "      <th>4</th>\n",
       "      <td>_OXDcGPVAa4</td>\n",
       "      <td>17.14.11</td>\n",
       "      <td>DOG HACKS | MUSAS LESSLIE LOS POLINESIOS</td>\n",
       "      <td>Musas</td>\n",
       "      <td>26</td>\n",
       "      <td>2017-11-13T19:17:48.000Z</td>\n",
       "      <td>MUSAS|\"lesslie\"|\"karen\"|\"hacks\"|\"perros\"|\"dogs...</td>\n",
       "      <td>499965</td>\n",
       "      <td>57781</td>\n",
       "      <td>681</td>\n",
       "      <td>7428</td>\n",
       "      <td>https://i.ytimg.com/vi/_OXDcGPVAa4/default.jpg</td>\n",
       "      <td>False</td>\n",
       "      <td>False</td>\n",
       "      <td>False</td>\n",
       "      <td>MI HERMANO NARRA MI RUTINA DE MAQUILLAJE\\nhttp...</td>\n",
       "    </tr>\n",
       "  </tbody>\n",
       "</table>\n",
       "</div>"
      ],
      "text/plain": [
       "      video_id trending_date  \\\n",
       "0  SbOwzAl9ZfQ      17.14.11   \n",
       "1  klOV6Xh-DnI      17.14.11   \n",
       "2  6L2ZF7Qzsbk      17.14.11   \n",
       "3  hcY52MFWMDM      17.14.11   \n",
       "4  _OXDcGPVAa4      17.14.11   \n",
       "\n",
       "                                               title  \\\n",
       "0                     CapÃ­tulo 12 | MasterChef 2017   \n",
       "1  ALEXA EX-INTEGRANTE DEL GRUPO TIMBIRICHE RENUN...   \n",
       "2           LOUIS CKAGÃ - EL PULSO DE LA REPÃBLICA   \n",
       "3   Sismo de 6.7 sacude Costa Rica 12 Noviembre 2017   \n",
       "4           DOG HACKS | MUSAS LESSLIE LOS POLINESIOS   \n",
       "\n",
       "               channel_title  category_id              publish_time  \\\n",
       "0            MasterChef 2017           24  2017-11-13T06:06:22.000Z   \n",
       "1   Micky Contreras Martinez           22  2017-11-13T05:11:58.000Z   \n",
       "2  El Pulso De La RepÃºblica           25  2017-11-13T17:00:02.000Z   \n",
       "3                   Casanare           25  2017-11-13T03:47:10.000Z   \n",
       "4                      Musas           26  2017-11-13T19:17:48.000Z   \n",
       "\n",
       "                                                tags   views  likes  dislikes  \\\n",
       "0  MasterChef Junior 2017|\"TV Azteca\"|\"recetas\"|\"...  310130   4182       361   \n",
       "1                                    La Voz Mexico 7  104972    271       174   \n",
       "2  Chumel Torres|\"El Pulso de la Republica\"|\"noti...  136064  10105       266   \n",
       "3         temblor|\"costa rica\"|\"sismo en costa rica\"   96153    378       171   \n",
       "4  MUSAS|\"lesslie\"|\"karen\"|\"hacks\"|\"perros\"|\"dogs...  499965  57781       681   \n",
       "\n",
       "   comment_count                                  thumbnail_link  \\\n",
       "0           1836  https://i.ytimg.com/vi/SbOwzAl9ZfQ/default.jpg   \n",
       "1            369  https://i.ytimg.com/vi/klOV6Xh-DnI/default.jpg   \n",
       "2            607  https://i.ytimg.com/vi/6L2ZF7Qzsbk/default.jpg   \n",
       "3            208  https://i.ytimg.com/vi/hcY52MFWMDM/default.jpg   \n",
       "4           7428  https://i.ytimg.com/vi/_OXDcGPVAa4/default.jpg   \n",
       "\n",
       "   comments_disabled  ratings_disabled  video_error_or_removed  \\\n",
       "0              False             False                   False   \n",
       "1              False             False                   False   \n",
       "2              False             False                   False   \n",
       "3              False             False                   False   \n",
       "4              False             False                   False   \n",
       "\n",
       "                                         description  \n",
       "0  Disfruta la presencia del Chef Torreblanca en ...  \n",
       "1  ALEXA EX-INTEGRANTE DEL GRUPO TIMBIRICHE RENUN...  \n",
       "2  La canciÃ³n del principio se llama âEste esp...  \n",
       "3  El video es de un Walmart en el pais centroame...  \n",
       "4  MI HERMANO NARRA MI RUTINA DE MAQUILLAJE\\nhttp...  "
      ]
     },
     "execution_count": 7,
     "metadata": {},
     "output_type": "execute_result"
    }
   ],
   "source": [
    "data_mx = pd.read_csv('data/MXvideos.csv', encoding='ISO-8859-1')\n",
    "data_mx.head()"
   ]
  },
  {
   "cell_type": "markdown",
   "metadata": {},
   "source": [
    "# Ensuciando data"
   ]
  },
  {
   "cell_type": "code",
   "execution_count": 8,
   "metadata": {},
   "outputs": [],
   "source": [
    "# MASTER CHEF\n",
    "indices_master_chef = data_mx.loc[\n",
    "    data_mx['channel_title'] == 'MasterChef 2017', 'channel_title'\n",
    "].index[:-10]\n",
    "\n",
    "data_mx.loc[indices_master_chef, 'channel_title'] = 'Masterchef 2017'\n",
    "\n",
    "data_mx['id_grupo'] = 1"
   ]
  },
  {
   "cell_type": "markdown",
   "metadata": {},
   "source": [
    "### SIZE"
   ]
  },
  {
   "cell_type": "code",
   "execution_count": 9,
   "metadata": {},
   "outputs": [
    {
     "data": {
      "text/plain": [
       "(40451, 17)"
      ]
     },
     "execution_count": 9,
     "metadata": {},
     "output_type": "execute_result"
    }
   ],
   "source": [
    "data_mx.shape"
   ]
  },
  {
   "cell_type": "code",
   "execution_count": 10,
   "metadata": {},
   "outputs": [
    {
     "data": {
      "text/plain": [
       "video_id                  object\n",
       "trending_date             object\n",
       "title                     object\n",
       "channel_title             object\n",
       "category_id                int64\n",
       "publish_time              object\n",
       "tags                      object\n",
       "views                      int64\n",
       "likes                      int64\n",
       "dislikes                   int64\n",
       "comment_count              int64\n",
       "thumbnail_link            object\n",
       "comments_disabled           bool\n",
       "ratings_disabled            bool\n",
       "video_error_or_removed      bool\n",
       "description               object\n",
       "id_grupo                   int64\n",
       "dtype: object"
      ]
     },
     "execution_count": 10,
     "metadata": {},
     "output_type": "execute_result"
    }
   ],
   "source": [
    "data_mx.dtypes"
   ]
  },
  {
   "cell_type": "code",
   "execution_count": 95,
   "metadata": {},
   "outputs": [
    {
     "data": {
      "text/plain": [
       "video_id                  False\n",
       "trending_date             False\n",
       "title                     False\n",
       "channel_title             False\n",
       "category_id               False\n",
       "publish_time              False\n",
       "tags                      False\n",
       "views                     False\n",
       "likes                     False\n",
       "dislikes                  False\n",
       "comment_count             False\n",
       "thumbnail_link            False\n",
       "comments_disabled         False\n",
       "ratings_disabled          False\n",
       "video_error_or_removed    False\n",
       "description                True\n",
       "dtype: bool"
      ]
     },
     "execution_count": 95,
     "metadata": {},
     "output_type": "execute_result"
    }
   ],
   "source": [
    "data_mx.isnull().any()"
   ]
  },
  {
   "cell_type": "code",
   "execution_count": 96,
   "metadata": {},
   "outputs": [
    {
     "data": {
      "text/plain": [
       "video_id                     0\n",
       "trending_date                0\n",
       "title                        0\n",
       "channel_title                0\n",
       "category_id                  0\n",
       "publish_time                 0\n",
       "tags                         0\n",
       "views                        0\n",
       "likes                        0\n",
       "dislikes                     0\n",
       "comment_count                0\n",
       "thumbnail_link               0\n",
       "comments_disabled            0\n",
       "ratings_disabled             0\n",
       "video_error_or_removed       0\n",
       "description               4224\n",
       "dtype: int64"
      ]
     },
     "execution_count": 96,
     "metadata": {},
     "output_type": "execute_result"
    }
   ],
   "source": [
    "data_mx.isnull().sum(axis=0)"
   ]
  },
  {
   "cell_type": "markdown",
   "metadata": {},
   "source": [
    "### Y so lo juntamos ???"
   ]
  },
  {
   "cell_type": "markdown",
   "metadata": {},
   "source": [
    "### ver link https://github.com/kendalvictor/guia_data_ML/blob/master/ANALISIS%20DE%20NULOS%20%20read_csv%2C%20isnull%2C%20any%2C%20sum%2C%20concat.ipynb"
   ]
  },
  {
   "cell_type": "markdown",
   "metadata": {},
   "source": [
    "### COMO SE VEN LOS NULOS ?"
   ]
  },
  {
   "cell_type": "code",
   "execution_count": 13,
   "metadata": {},
   "outputs": [
    {
     "data": {
      "text/plain": [
       "<matplotlib.axes._subplots.AxesSubplot at 0x7f3c791af9b0>"
      ]
     },
     "execution_count": 13,
     "metadata": {},
     "output_type": "execute_result"
    },
    {
     "data": {
      "image/png": "[encoded data removed]",
      "text/plain": [
       "<Figure size 1800x720 with 2 Axes>"
      ]
     },
     "metadata": {},
     "output_type": "display_data"
    }
   ],
   "source": [
    "import missingno as msno\n",
    "\n",
    "#grafico\n",
    "import matplotlib.pyplot as plt\n",
    "import seaborn as sns\n",
    "from IPython.display import display\n",
    "%matplotlib inline\n",
    "sns.set(style=\"whitegrid\")\n",
    "\n",
    "msno.matrix(data_mx)"
   ]
  },
  {
   "cell_type": "markdown",
   "metadata": {},
   "source": [
    "### VERIFICAR COLUMNAS CONSTANTES"
   ]
  },
  {
   "cell_type": "markdown",
   "metadata": {},
   "source": [
    "### Es necesario tengamos nocion de los valores unicos por columna"
   ]
  },
  {
   "cell_type": "code",
   "execution_count": 97,
   "metadata": {},
   "outputs": [
    {
     "name": "stdout",
     "output_type": "stream",
     "text": [
      "video_id 33513\n",
      "trending_date 205\n",
      "title 33785\n",
      "channel_title 6978\n",
      "category_id 16\n",
      "publish_time 33243\n",
      "tags 23635\n",
      "views 35915\n",
      "likes 14564\n",
      "dislikes 3693\n",
      "comment_count 6310\n",
      "thumbnail_link 33945\n",
      "comments_disabled 2\n",
      "ratings_disabled 2\n",
      "video_error_or_removed 2\n",
      "description 26738\n"
     ]
    },
    {
     "data": {
      "text/plain": [
       "(40451, 16)"
      ]
     },
     "execution_count": 97,
     "metadata": {},
     "output_type": "execute_result"
    }
   ],
   "source": [
    "for col in data_mx.columns:\n",
    "    print(col, data_mx[col].unique().shape[0])\n",
    "\n",
    "data_mx.shape"
   ]
  },
  {
   "cell_type": "markdown",
   "metadata": {},
   "source": [
    "### MasterChef ?? "
   ]
  },
  {
   "cell_type": "code",
   "execution_count": 126,
   "metadata": {},
   "outputs": [
    {
     "name": "stdout",
     "output_type": "stream",
     "text": [
      "['Masterchef 2017', 'ArteMaster', 'FutMaster', 'MasterFut MX', 'MasterChef 2017', 'MasterVirales10', 'Rap Master Pro', 'MasterBing22', 'Los Master Plus', 'Master', 'Shazzan Master of the trucks', 'MasteredTraxVEVO', 'Iron Masters']\n"
     ]
    },
    {
     "data": {
      "text/plain": [
       "13"
      ]
     },
     "execution_count": 126,
     "metadata": {},
     "output_type": "execute_result"
    }
   ],
   "source": [
    "list_values_master_chef = [_ for _ in data_mx['channel_title'].unique() if 'Master' in _]\n",
    "print(list_values_master_chef)\n",
    "len(list_values_master_chef)"
   ]
  },
  {
   "cell_type": "code",
   "execution_count": 127,
   "metadata": {},
   "outputs": [
    {
     "data": {
      "text/plain": [
       "['JoSe MaStErGG']"
      ]
     },
     "execution_count": 127,
     "metadata": {},
     "output_type": "execute_result"
    }
   ],
   "source": [
    "[_ for _ in data_mx['channel_title'].unique() if 'MaStEr' in _]"
   ]
  },
  {
   "cell_type": "code",
   "execution_count": 128,
   "metadata": {},
   "outputs": [
    {
     "data": {
      "text/plain": [
       "['ElvisaYomastercard']"
      ]
     },
     "execution_count": 128,
     "metadata": {},
     "output_type": "execute_result"
    }
   ],
   "source": [
    "[_ for _ in data_mx['channel_title'].unique() if 'master' in _]"
   ]
  },
  {
   "cell_type": "markdown",
   "metadata": {},
   "source": [
    "### 3 OPCIONES"
   ]
  },
  {
   "cell_type": "markdown",
   "metadata": {},
   "source": [
    "#### >>>>>>>>>>>>> 1- SLUGYFI https://github.com/un33k/python-slugify"
   ]
  },
  {
   "cell_type": "code",
   "execution_count": 4,
   "metadata": {},
   "outputs": [],
   "source": [
    "from slugify import slugify"
   ]
  },
  {
   "cell_type": "code",
   "execution_count": 5,
   "metadata": {},
   "outputs": [
    {
     "data": {
      "text/plain": [
       "'frggtga9riori-aaaaoeio'"
      ]
     },
     "execution_count": 5,
     "metadata": {},
     "output_type": "execute_result"
    }
   ],
   "source": [
    "text_prueba = 'frggtgá9riori AAAAoeio-_@'\n",
    "slugify(text_prueba)"
   ]
  },
  {
   "cell_type": "code",
   "execution_count": 125,
   "metadata": {},
   "outputs": [
    {
     "name": "stdout",
     "output_type": "stream",
     "text": [
      "['masterchef-2017', 'artemaster', 'futmaster', 'master-seita-n', 'elvisayomastercard', 'masterfut-mx', 'mastervirales10', 'rap-master-pro', 'masterbing22', 'los-master-plus', 'master', 'jose-mastergg', 'shazzan-master-of-the-trucks', 'masteredtraxvevo', 'iron-masters']\n"
     ]
    },
    {
     "data": {
      "text/plain": [
       "15"
      ]
     },
     "execution_count": 125,
     "metadata": {},
     "output_type": "execute_result"
    }
   ],
   "source": [
    "data_mx['channel_title_1'] = data_mx['channel_title'].apply(lambda _: slugify(_))\n",
    "\n",
    "list_values_master_chef = [_ for _ in data_mx['channel_title_1'].unique() if 'master' in _]\n",
    "print(list_values_master_chef)\n",
    "len(list_values_master_chef)"
   ]
  },
  {
   "cell_type": "code",
   "execution_count": null,
   "metadata": {},
   "outputs": [],
   "source": [
    "for col in data_mx.columns:\n",
    "    print(col, data_mx[col].unique().shape[0])"
   ]
  },
  {
   "cell_type": "markdown",
   "metadata": {},
   "source": [
    "#### >>>>>>>>>>>>> 2- UNICODE DATA https://docs.python.org/3/library/unicodedata.html"
   ]
  },
  {
   "cell_type": "code",
   "execution_count": 119,
   "metadata": {},
   "outputs": [
    {
     "name": "stdout",
     "output_type": "stream",
     "text": [
      "['masterchef 2017', 'artemaster', 'futmaster', 'master  seitan', 'elvisayomastercard', 'masterfut mx', 'mastervirales10', 'rap master pro', 'masterbing22', 'los master plus', 'master', 'jose mastergg', 'shazzan master of the trucks', 'masteredtraxvevo', 'iron masters']\n"
     ]
    },
    {
     "data": {
      "text/plain": [
       "15"
      ]
     },
     "execution_count": 119,
     "metadata": {},
     "output_type": "execute_result"
    }
   ],
   "source": [
    "from unicodedata import normalize, category\n",
    "\n",
    "def clean_text(val):\n",
    "    return ''.join(\n",
    "        [_ for _ in normalize('NFD', val.lower()) if category(_) in ['Ll', 'Nd', 'Zs']]\n",
    "    )\n",
    "    return val\n",
    "\n",
    "data_mx['channel_title_2'] = data_mx['channel_title'].apply(clean_text)\n",
    "\n",
    "list_values_master_chef = [_ for _ in data_mx['channel_title_2'].unique() if 'master' in _]\n",
    "print(list_values_master_chef)\n",
    "len(list_values_master_chef)"
   ]
  },
  {
   "cell_type": "markdown",
   "metadata": {},
   "source": [
    "#### >>>>>>>>>>>>> 3- ORD https://www.programiz.com/python-programming/methods/built-in/ord"
   ]
  },
  {
   "cell_type": "code",
   "execution_count": 130,
   "metadata": {},
   "outputs": [
    {
     "name": "stdout",
     "output_type": "stream",
     "text": [
      "['masterchef 2017', 'artemaster', 'futmaster', 'elvisayomastercard', 'masterfut mx', 'mastervirales10', 'rap master pro', 'masterbing22', 'los master plus', 'master', 'jose mastergg', 'shazzan master of the trucks', 'masteredtraxvevo', 'iron masters']\n"
     ]
    },
    {
     "data": {
      "text/plain": [
       "14"
      ]
     },
     "execution_count": 130,
     "metadata": {},
     "output_type": "execute_result"
    }
   ],
   "source": [
    "def clean_for_ord(val):\n",
    "    return ''.join(\n",
    "        [_ for _ in val.lower() if ord(_) < 128]\n",
    "    )\n",
    "\n",
    "data_mx['channel_title_3'] = data_mx['channel_title'].apply(clean_for_ord)\n",
    "\n",
    "list_values_master_chef = [_ for _ in data_mx['channel_title_3'].unique() if 'master' in _]\n",
    "print(list_values_master_chef)\n",
    "len(list_values_master_chef)"
   ]
  },
  {
   "cell_type": "markdown",
   "metadata": {},
   "source": [
    "### COMPARE"
   ]
  },
  {
   "cell_type": "markdown",
   "metadata": {},
   "source": [
    "### LA IDEA FINAL ES QUE CUANDO LOS VALORES VENGAN DE OTRA BASE DE DATOS O FUENTE CON ESTA TRANSFORMACION SE IGUALEN"
   ]
  },
  {
   "cell_type": "code",
   "execution_count": 131,
   "metadata": {},
   "outputs": [
    {
     "data": {
      "text/html": [
       "<div>\n",
       "<style scoped>\n",
       "    .dataframe tbody tr th:only-of-type {\n",
       "        vertical-align: middle;\n",
       "    }\n",
       "\n",
       "    .dataframe tbody tr th {\n",
       "        vertical-align: top;\n",
       "    }\n",
       "\n",
       "    .dataframe thead th {\n",
       "        text-align: right;\n",
       "    }\n",
       "</style>\n",
       "<table border=\"1\" class=\"dataframe\">\n",
       "  <thead>\n",
       "    <tr style=\"text-align: right;\">\n",
       "      <th></th>\n",
       "      <th>channel_title</th>\n",
       "      <th>channel_title_1</th>\n",
       "      <th>channel_title_2</th>\n",
       "      <th>channel_title_3</th>\n",
       "    </tr>\n",
       "  </thead>\n",
       "  <tbody>\n",
       "    <tr>\n",
       "      <th>0</th>\n",
       "      <td>Masterchef 2017</td>\n",
       "      <td>masterchef-2017</td>\n",
       "      <td>masterchef 2017</td>\n",
       "      <td>masterchef 2017</td>\n",
       "    </tr>\n",
       "    <tr>\n",
       "      <th>1</th>\n",
       "      <td>Micky Contreras Martinez</td>\n",
       "      <td>micky-contreras-martinez</td>\n",
       "      <td>micky contreras martinez</td>\n",
       "      <td>micky contreras martinez</td>\n",
       "    </tr>\n",
       "    <tr>\n",
       "      <th>2</th>\n",
       "      <td>El Pulso De La RepÃºblica</td>\n",
       "      <td>el-pulso-de-la-repaoblica</td>\n",
       "      <td>el pulso de la repablica</td>\n",
       "      <td>el pulso de la repblica</td>\n",
       "    </tr>\n",
       "    <tr>\n",
       "      <th>3</th>\n",
       "      <td>Casanare</td>\n",
       "      <td>casanare</td>\n",
       "      <td>casanare</td>\n",
       "      <td>casanare</td>\n",
       "    </tr>\n",
       "    <tr>\n",
       "      <th>4</th>\n",
       "      <td>Musas</td>\n",
       "      <td>musas</td>\n",
       "      <td>musas</td>\n",
       "      <td>musas</td>\n",
       "    </tr>\n",
       "    <tr>\n",
       "      <th>5</th>\n",
       "      <td>MÃSICA &amp; ENTRETENIMIENTO</td>\n",
       "      <td>masica-entretenimiento</td>\n",
       "      <td>masica  entretenimiento</td>\n",
       "      <td>msica &amp; entretenimiento</td>\n",
       "    </tr>\n",
       "    <tr>\n",
       "      <th>6</th>\n",
       "      <td>La Resolana</td>\n",
       "      <td>la-resolana</td>\n",
       "      <td>la resolana</td>\n",
       "      <td>la resolana</td>\n",
       "    </tr>\n",
       "    <tr>\n",
       "      <th>7</th>\n",
       "      <td>concienciaradio</td>\n",
       "      <td>concienciaradio</td>\n",
       "      <td>concienciaradio</td>\n",
       "      <td>concienciaradio</td>\n",
       "    </tr>\n",
       "    <tr>\n",
       "      <th>8</th>\n",
       "      <td>Los mejores Top 10</td>\n",
       "      <td>los-mejores-top-10</td>\n",
       "      <td>los mejores top 10</td>\n",
       "      <td>los mejores top 10</td>\n",
       "    </tr>\n",
       "    <tr>\n",
       "      <th>9</th>\n",
       "      <td>DrossRotzank</td>\n",
       "      <td>drossrotzank</td>\n",
       "      <td>drossrotzank</td>\n",
       "      <td>drossrotzank</td>\n",
       "    </tr>\n",
       "    <tr>\n",
       "      <th>10</th>\n",
       "      <td>Franco Escamilla</td>\n",
       "      <td>franco-escamilla</td>\n",
       "      <td>franco escamilla</td>\n",
       "      <td>franco escamilla</td>\n",
       "    </tr>\n",
       "    <tr>\n",
       "      <th>11</th>\n",
       "      <td>maurg1</td>\n",
       "      <td>maurg1</td>\n",
       "      <td>maurg1</td>\n",
       "      <td>maurg1</td>\n",
       "    </tr>\n",
       "    <tr>\n",
       "      <th>12</th>\n",
       "      <td>Memo Aponte</td>\n",
       "      <td>memo-aponte</td>\n",
       "      <td>memo aponte</td>\n",
       "      <td>memo aponte</td>\n",
       "    </tr>\n",
       "    <tr>\n",
       "      <th>13</th>\n",
       "      <td>Harrison</td>\n",
       "      <td>harrison</td>\n",
       "      <td>harrison</td>\n",
       "      <td>harrison</td>\n",
       "    </tr>\n",
       "    <tr>\n",
       "      <th>14</th>\n",
       "      <td>Harrison</td>\n",
       "      <td>harrison</td>\n",
       "      <td>harrison</td>\n",
       "      <td>harrison</td>\n",
       "    </tr>\n",
       "    <tr>\n",
       "      <th>15</th>\n",
       "      <td>EnigmAnÃ³nimo Mundo de Hoy</td>\n",
       "      <td>enigmana3nimo-mundo-de-hoy</td>\n",
       "      <td>enigmananimo mundo de hoy</td>\n",
       "      <td>enigmannimo mundo de hoy</td>\n",
       "    </tr>\n",
       "    <tr>\n",
       "      <th>16</th>\n",
       "      <td>El Privilegio de Mandar</td>\n",
       "      <td>el-privilegio-de-mandar</td>\n",
       "      <td>el privilegio de mandar</td>\n",
       "      <td>el privilegio de mandar</td>\n",
       "    </tr>\n",
       "    <tr>\n",
       "      <th>17</th>\n",
       "      <td>Chacaleo. Com</td>\n",
       "      <td>chacaleo-com</td>\n",
       "      <td>chacaleo com</td>\n",
       "      <td>chacaleo. com</td>\n",
       "    </tr>\n",
       "    <tr>\n",
       "      <th>18</th>\n",
       "      <td>Central de notÃ­cias e esportes CNE</td>\n",
       "      <td>central-de-notacias-e-esportes-cne</td>\n",
       "      <td>central de notacias e esportes cne</td>\n",
       "      <td>central de notcias e esportes cne</td>\n",
       "    </tr>\n",
       "    <tr>\n",
       "      <th>19</th>\n",
       "      <td>MaireWink</td>\n",
       "      <td>mairewink</td>\n",
       "      <td>mairewink</td>\n",
       "      <td>mairewink</td>\n",
       "    </tr>\n",
       "  </tbody>\n",
       "</table>\n",
       "</div>"
      ],
      "text/plain": [
       "                          channel_title                     channel_title_1  \\\n",
       "0                       Masterchef 2017                     masterchef-2017   \n",
       "1              Micky Contreras Martinez            micky-contreras-martinez   \n",
       "2             El Pulso De La RepÃºblica           el-pulso-de-la-repaoblica   \n",
       "3                              Casanare                            casanare   \n",
       "4                                 Musas                               musas   \n",
       "5             MÃSICA & ENTRETENIMIENTO              masica-entretenimiento   \n",
       "6                           La Resolana                         la-resolana   \n",
       "7                       concienciaradio                     concienciaradio   \n",
       "8                    Los mejores Top 10                  los-mejores-top-10   \n",
       "9                          DrossRotzank                        drossrotzank   \n",
       "10                     Franco Escamilla                    franco-escamilla   \n",
       "11                               maurg1                              maurg1   \n",
       "12                          Memo Aponte                         memo-aponte   \n",
       "13                             Harrison                            harrison   \n",
       "14                             Harrison                            harrison   \n",
       "15           EnigmAnÃ³nimo Mundo de Hoy          enigmana3nimo-mundo-de-hoy   \n",
       "16              El Privilegio de Mandar             el-privilegio-de-mandar   \n",
       "17                        Chacaleo. Com                        chacaleo-com   \n",
       "18  Central de notÃ­cias e esportes CNE  central-de-notacias-e-esportes-cne   \n",
       "19                            MaireWink                           mairewink   \n",
       "\n",
       "                       channel_title_2                    channel_title_3  \n",
       "0                      masterchef 2017                    masterchef 2017  \n",
       "1             micky contreras martinez           micky contreras martinez  \n",
       "2             el pulso de la repablica            el pulso de la repblica  \n",
       "3                             casanare                           casanare  \n",
       "4                                musas                              musas  \n",
       "5              masica  entretenimiento            msica & entretenimiento  \n",
       "6                          la resolana                        la resolana  \n",
       "7                      concienciaradio                    concienciaradio  \n",
       "8                   los mejores top 10                 los mejores top 10  \n",
       "9                         drossrotzank                       drossrotzank  \n",
       "10                    franco escamilla                   franco escamilla  \n",
       "11                              maurg1                             maurg1  \n",
       "12                         memo aponte                        memo aponte  \n",
       "13                            harrison                           harrison  \n",
       "14                            harrison                           harrison  \n",
       "15           enigmananimo mundo de hoy           enigmannimo mundo de hoy  \n",
       "16             el privilegio de mandar            el privilegio de mandar  \n",
       "17                        chacaleo com                      chacaleo. com  \n",
       "18  central de notacias e esportes cne  central de notcias e esportes cne  \n",
       "19                           mairewink                          mairewink  "
      ]
     },
     "execution_count": 131,
     "metadata": {},
     "output_type": "execute_result"
    }
   ],
   "source": [
    "data_mx[['channel_title','channel_title_1', 'channel_title_2', 'channel_title_3']].head(20)"
   ]
  },
  {
   "cell_type": "code",
   "execution_count": 133,
   "metadata": {},
   "outputs": [
    {
     "name": "stdout",
     "output_type": "stream",
     "text": [
      "channel_title (6978,)\n",
      "channel_title_1 (6918,)\n",
      "channel_title_2 (6912,)\n",
      "channel_title_3 (6917,)\n"
     ]
    }
   ],
   "source": [
    "for col in ['channel_title','channel_title_1', 'channel_title_2', 'channel_title_3']:\n",
    "    print(col, data_mx[col].unique().shape)"
   ]
  },
  {
   "cell_type": "code",
   "execution_count": null,
   "metadata": {},
   "outputs": [],
   "source": []
  },
  {
   "cell_type": "markdown",
   "metadata": {},
   "source": [
    "# DATES"
   ]
  },
  {
   "cell_type": "markdown",
   "metadata": {},
   "source": [
    "### Tenemos dos columnas fechs y estan siendo tomadas como cadenas de texto"
   ]
  },
  {
   "cell_type": "code",
   "execution_count": 132,
   "metadata": {},
   "outputs": [
    {
     "data": {
      "text/plain": [
       "video_id                  object\n",
       "trending_date             object\n",
       "title                     object\n",
       "channel_title             object\n",
       "category_id                int64\n",
       "publish_time              object\n",
       "tags                      object\n",
       "views                      int64\n",
       "likes                      int64\n",
       "dislikes                   int64\n",
       "comment_count              int64\n",
       "thumbnail_link            object\n",
       "comments_disabled           bool\n",
       "ratings_disabled            bool\n",
       "video_error_or_removed      bool\n",
       "description               object\n",
       "channel_title_1           object\n",
       "channel_title_2           object\n",
       "channel_title_3           object\n",
       "dtype: object"
      ]
     },
     "execution_count": 132,
     "metadata": {},
     "output_type": "execute_result"
    }
   ],
   "source": [
    "data_mx.dtypes"
   ]
  },
  {
   "cell_type": "code",
   "execution_count": 134,
   "metadata": {},
   "outputs": [
    {
     "data": {
      "text/plain": [
       "0    2017-11-13T06:06:22.000Z\n",
       "1    2017-11-13T05:11:58.000Z\n",
       "2    2017-11-13T17:00:02.000Z\n",
       "3    2017-11-13T03:47:10.000Z\n",
       "4    2017-11-13T19:17:48.000Z\n",
       "5    2017-11-12T20:17:38.000Z\n",
       "6    2017-11-13T07:00:03.000Z\n",
       "7    2017-11-13T06:18:23.000Z\n",
       "8    2017-11-12T19:54:12.000Z\n",
       "9    2017-11-12T21:14:44.000Z\n",
       "Name: publish_time, dtype: object"
      ]
     },
     "execution_count": 134,
     "metadata": {},
     "output_type": "execute_result"
    }
   ],
   "source": [
    "data_mx['publish_time'].head(10)"
   ]
  },
  {
   "cell_type": "code",
   "execution_count": 135,
   "metadata": {},
   "outputs": [
    {
     "data": {
      "text/plain": [
       "0    17.14.11\n",
       "1    17.14.11\n",
       "2    17.14.11\n",
       "3    17.14.11\n",
       "4    17.14.11\n",
       "5    17.14.11\n",
       "6    17.14.11\n",
       "7    17.14.11\n",
       "8    17.14.11\n",
       "9    17.14.11\n",
       "Name: trending_date, dtype: object"
      ]
     },
     "execution_count": 135,
     "metadata": {},
     "output_type": "execute_result"
    }
   ],
   "source": [
    "data_mx['trending_date'].head(10)"
   ]
  },
  {
   "cell_type": "markdown",
   "metadata": {},
   "source": [
    "### FORMAT https://docs.python.org/3/library/datetime.html#strftime-and-strptime-behavior\n",
    "\n",
    "TO_DATETIME https://pandas.pydata.org/pandas-docs/stable/reference/api/pandas.to_datetime.html"
   ]
  },
  {
   "cell_type": "code",
   "execution_count": 136,
   "metadata": {},
   "outputs": [
    {
     "data": {
      "text/plain": [
       "video_id                          object\n",
       "trending_date             datetime64[ns]\n",
       "title                             object\n",
       "channel_title                     object\n",
       "category_id                        int64\n",
       "publish_time              datetime64[ns]\n",
       "tags                              object\n",
       "views                              int64\n",
       "likes                              int64\n",
       "dislikes                           int64\n",
       "comment_count                      int64\n",
       "thumbnail_link                    object\n",
       "comments_disabled                   bool\n",
       "ratings_disabled                    bool\n",
       "video_error_or_removed              bool\n",
       "description                       object\n",
       "channel_title_1                   object\n",
       "channel_title_2                   object\n",
       "channel_title_3                   object\n",
       "dtype: object"
      ]
     },
     "execution_count": 136,
     "metadata": {},
     "output_type": "execute_result"
    }
   ],
   "source": [
    "data_mx['trending_date'] = pd.to_datetime(\n",
    "    data_mx['trending_date'], errors='coerce', format='%y.%d.%m'\n",
    ")\n",
    "data_mx['publish_time'] = pd.to_datetime(\n",
    "    data_mx['publish_time'], errors='coerce', format='%Y-%m-%dT%H:%M:%S.%fZ'\n",
    ")\n",
    "data_mx.dtypes"
   ]
  },
  {
   "cell_type": "code",
   "execution_count": 153,
   "metadata": {},
   "outputs": [
    {
     "data": {
      "text/plain": [
       "publish_time     False\n",
       "trending_date    False\n",
       "dtype: bool"
      ]
     },
     "execution_count": 153,
     "metadata": {},
     "output_type": "execute_result"
    }
   ],
   "source": [
    "data_mx[['publish_time', 'trending_date']].isnull().any()"
   ]
  },
  {
   "cell_type": "markdown",
   "metadata": {},
   "source": [
    "### AHORA YA ES POSIBLE HALLAR LA DIFRENCI ENTRE LA FECHA DE PUBLICACION Y LA FECHA DE TENDENCIA"
   ]
  },
  {
   "cell_type": "code",
   "execution_count": 150,
   "metadata": {},
   "outputs": [],
   "source": [
    "def apply_diff_mont(serie_diff):\n",
    "    return (serie_diff / np.timedelta64(1,'D')).round(3)\n",
    "\n",
    "data_mx['diff_date'] = apply_diff_mont(\n",
    "    data_mx['trending_date'] - data_mx['publish_time']\n",
    ")"
   ]
  },
  {
   "cell_type": "code",
   "execution_count": 151,
   "metadata": {},
   "outputs": [
    {
     "data": {
      "text/plain": [
       "0     0.746\n",
       "1     0.783\n",
       "2     0.292\n",
       "3     0.842\n",
       "4     0.196\n",
       "5     1.154\n",
       "6     0.708\n",
       "7     0.737\n",
       "8     1.171\n",
       "9     1.115\n",
       "10    1.187\n",
       "11    0.947\n",
       "12    0.923\n",
       "13    0.802\n",
       "14    0.802\n",
       "Name: diff_date, dtype: float64"
      ]
     },
     "execution_count": 151,
     "metadata": {},
     "output_type": "execute_result"
    }
   ],
   "source": [
    "data_mx['diff_date'].head(15)"
   ]
  },
  {
   "cell_type": "markdown",
   "metadata": {},
   "source": [
    "## Y PODEMOS HALLAR MAS VARIANTES "
   ]
  },
  {
   "cell_type": "code",
   "execution_count": 154,
   "metadata": {},
   "outputs": [
    {
     "data": {
      "text/html": [
       "<div>\n",
       "<style scoped>\n",
       "    .dataframe tbody tr th:only-of-type {\n",
       "        vertical-align: middle;\n",
       "    }\n",
       "\n",
       "    .dataframe tbody tr th {\n",
       "        vertical-align: top;\n",
       "    }\n",
       "\n",
       "    .dataframe thead th {\n",
       "        text-align: right;\n",
       "    }\n",
       "</style>\n",
       "<table border=\"1\" class=\"dataframe\">\n",
       "  <thead>\n",
       "    <tr style=\"text-align: right;\">\n",
       "      <th></th>\n",
       "      <th>month_publish</th>\n",
       "      <th>weekday_publish</th>\n",
       "    </tr>\n",
       "  </thead>\n",
       "  <tbody>\n",
       "    <tr>\n",
       "      <th>0</th>\n",
       "      <td>11</td>\n",
       "      <td>0</td>\n",
       "    </tr>\n",
       "    <tr>\n",
       "      <th>1</th>\n",
       "      <td>11</td>\n",
       "      <td>0</td>\n",
       "    </tr>\n",
       "    <tr>\n",
       "      <th>2</th>\n",
       "      <td>11</td>\n",
       "      <td>0</td>\n",
       "    </tr>\n",
       "    <tr>\n",
       "      <th>3</th>\n",
       "      <td>11</td>\n",
       "      <td>0</td>\n",
       "    </tr>\n",
       "    <tr>\n",
       "      <th>4</th>\n",
       "      <td>11</td>\n",
       "      <td>0</td>\n",
       "    </tr>\n",
       "    <tr>\n",
       "      <th>5</th>\n",
       "      <td>11</td>\n",
       "      <td>6</td>\n",
       "    </tr>\n",
       "    <tr>\n",
       "      <th>6</th>\n",
       "      <td>11</td>\n",
       "      <td>0</td>\n",
       "    </tr>\n",
       "    <tr>\n",
       "      <th>7</th>\n",
       "      <td>11</td>\n",
       "      <td>0</td>\n",
       "    </tr>\n",
       "    <tr>\n",
       "      <th>8</th>\n",
       "      <td>11</td>\n",
       "      <td>6</td>\n",
       "    </tr>\n",
       "    <tr>\n",
       "      <th>9</th>\n",
       "      <td>11</td>\n",
       "      <td>6</td>\n",
       "    </tr>\n",
       "    <tr>\n",
       "      <th>10</th>\n",
       "      <td>11</td>\n",
       "      <td>6</td>\n",
       "    </tr>\n",
       "    <tr>\n",
       "      <th>11</th>\n",
       "      <td>11</td>\n",
       "      <td>0</td>\n",
       "    </tr>\n",
       "    <tr>\n",
       "      <th>12</th>\n",
       "      <td>11</td>\n",
       "      <td>0</td>\n",
       "    </tr>\n",
       "    <tr>\n",
       "      <th>13</th>\n",
       "      <td>11</td>\n",
       "      <td>0</td>\n",
       "    </tr>\n",
       "    <tr>\n",
       "      <th>14</th>\n",
       "      <td>11</td>\n",
       "      <td>0</td>\n",
       "    </tr>\n",
       "  </tbody>\n",
       "</table>\n",
       "</div>"
      ],
      "text/plain": [
       "    month_publish  weekday_publish\n",
       "0              11                0\n",
       "1              11                0\n",
       "2              11                0\n",
       "3              11                0\n",
       "4              11                0\n",
       "5              11                6\n",
       "6              11                0\n",
       "7              11                0\n",
       "8              11                6\n",
       "9              11                6\n",
       "10             11                6\n",
       "11             11                0\n",
       "12             11                0\n",
       "13             11                0\n",
       "14             11                0"
      ]
     },
     "execution_count": 154,
     "metadata": {},
     "output_type": "execute_result"
    }
   ],
   "source": [
    "data_mx['weekday_publish'] = data_mx['publish_time'].dt.weekday\n",
    "data_mx['month_publish'] = data_mx['publish_time'].dt.month\n",
    "\n",
    "data_mx[['month_publish', 'weekday_publish']].head(15)"
   ]
  },
  {
   "cell_type": "code",
   "execution_count": 158,
   "metadata": {},
   "outputs": [
    {
     "data": {
      "text/plain": [
       "<matplotlib.axes._subplots.AxesSubplot at 0x7fba6e5a70b8>"
      ]
     },
     "execution_count": 158,
     "metadata": {},
     "output_type": "execute_result"
    },
    {
     "data": {
      "image/png": "[encoded data removed]",
      "text/plain": [
       "<Figure size 432x288 with 1 Axes>"
      ]
     },
     "metadata": {
      "needs_background": "light"
     },
     "output_type": "display_data"
    }
   ],
   "source": [
    "### INCLUSO APLICAR SERIES DE TIEMPO\n",
    "#grafico\n",
    "import matplotlib.pyplot as plt\n",
    "%matplotlib inline\n",
    "\n",
    "data_mx.index = data_mx.publish_time\n",
    "\n",
    "data_mx.views.sort_index().plot()"
   ]
  },
  {
   "cell_type": "code",
   "execution_count": 160,
   "metadata": {},
   "outputs": [
    {
     "data": {
      "text/plain": [
       "<matplotlib.axes._subplots.AxesSubplot at 0x7fba6e3ab208>"
      ]
     },
     "execution_count": 160,
     "metadata": {},
     "output_type": "execute_result"
    },
    {
     "data": {
      "image/png": "[encoded data removed]",
      "text/plain": [
       "<Figure size 432x288 with 1 Axes>"
      ]
     },
     "metadata": {
      "needs_background": "light"
     },
     "output_type": "display_data"
    }
   ],
   "source": [
    "data_mx[data_mx['publish_time'].dt.year >= 2018].views.sort_index().plot()"
   ]
  },
  {
   "cell_type": "markdown",
   "metadata": {},
   "source": [
    "# PASAR LOS BOOLEANOS A ENTEROS"
   ]
  },
  {
   "cell_type": "code",
   "execution_count": 161,
   "metadata": {},
   "outputs": [
    {
     "data": {
      "text/plain": [
       "video_id                          object\n",
       "trending_date             datetime64[ns]\n",
       "title                             object\n",
       "channel_title                     object\n",
       "category_id                        int64\n",
       "publish_time              datetime64[ns]\n",
       "tags                              object\n",
       "views                              int64\n",
       "likes                              int64\n",
       "dislikes                           int64\n",
       "comment_count                      int64\n",
       "thumbnail_link                    object\n",
       "comments_disabled                   bool\n",
       "ratings_disabled                    bool\n",
       "video_error_or_removed              bool\n",
       "description                       object\n",
       "channel_title_1                   object\n",
       "channel_title_2                   object\n",
       "channel_title_3                   object\n",
       "diff_date                        float64\n",
       "weekday_publish                    int64\n",
       "month_publish                      int64\n",
       "dtype: object"
      ]
     },
     "execution_count": 161,
     "metadata": {},
     "output_type": "execute_result"
    }
   ],
   "source": [
    "data_mx.dtypes"
   ]
  },
  {
   "cell_type": "code",
   "execution_count": 163,
   "metadata": {},
   "outputs": [
    {
     "data": {
      "text/html": [
       "<div>\n",
       "<style scoped>\n",
       "    .dataframe tbody tr th:only-of-type {\n",
       "        vertical-align: middle;\n",
       "    }\n",
       "\n",
       "    .dataframe tbody tr th {\n",
       "        vertical-align: top;\n",
       "    }\n",
       "\n",
       "    .dataframe thead th {\n",
       "        text-align: right;\n",
       "    }\n",
       "</style>\n",
       "<table border=\"1\" class=\"dataframe\">\n",
       "  <thead>\n",
       "    <tr style=\"text-align: right;\">\n",
       "      <th></th>\n",
       "      <th>comments_disabled</th>\n",
       "      <th>comments_disabled_int</th>\n",
       "      <th>ratings_disabled</th>\n",
       "      <th>ratings_disabled_int</th>\n",
       "      <th>video_error_or_removed</th>\n",
       "      <th>video_error_or_removed_int</th>\n",
       "    </tr>\n",
       "    <tr>\n",
       "      <th>publish_time</th>\n",
       "      <th></th>\n",
       "      <th></th>\n",
       "      <th></th>\n",
       "      <th></th>\n",
       "      <th></th>\n",
       "      <th></th>\n",
       "    </tr>\n",
       "  </thead>\n",
       "  <tbody>\n",
       "    <tr>\n",
       "      <th>2017-11-13 06:06:22</th>\n",
       "      <td>False</td>\n",
       "      <td>0</td>\n",
       "      <td>False</td>\n",
       "      <td>0</td>\n",
       "      <td>False</td>\n",
       "      <td>0</td>\n",
       "    </tr>\n",
       "    <tr>\n",
       "      <th>2017-11-13 05:11:58</th>\n",
       "      <td>False</td>\n",
       "      <td>0</td>\n",
       "      <td>False</td>\n",
       "      <td>0</td>\n",
       "      <td>False</td>\n",
       "      <td>0</td>\n",
       "    </tr>\n",
       "    <tr>\n",
       "      <th>2017-11-13 17:00:02</th>\n",
       "      <td>False</td>\n",
       "      <td>0</td>\n",
       "      <td>False</td>\n",
       "      <td>0</td>\n",
       "      <td>False</td>\n",
       "      <td>0</td>\n",
       "    </tr>\n",
       "    <tr>\n",
       "      <th>2017-11-13 03:47:10</th>\n",
       "      <td>False</td>\n",
       "      <td>0</td>\n",
       "      <td>False</td>\n",
       "      <td>0</td>\n",
       "      <td>False</td>\n",
       "      <td>0</td>\n",
       "    </tr>\n",
       "    <tr>\n",
       "      <th>2017-11-13 19:17:48</th>\n",
       "      <td>False</td>\n",
       "      <td>0</td>\n",
       "      <td>False</td>\n",
       "      <td>0</td>\n",
       "      <td>False</td>\n",
       "      <td>0</td>\n",
       "    </tr>\n",
       "    <tr>\n",
       "      <th>2017-11-12 20:17:38</th>\n",
       "      <td>False</td>\n",
       "      <td>0</td>\n",
       "      <td>False</td>\n",
       "      <td>0</td>\n",
       "      <td>False</td>\n",
       "      <td>0</td>\n",
       "    </tr>\n",
       "    <tr>\n",
       "      <th>2017-11-13 07:00:03</th>\n",
       "      <td>False</td>\n",
       "      <td>0</td>\n",
       "      <td>False</td>\n",
       "      <td>0</td>\n",
       "      <td>False</td>\n",
       "      <td>0</td>\n",
       "    </tr>\n",
       "    <tr>\n",
       "      <th>2017-11-13 06:18:23</th>\n",
       "      <td>True</td>\n",
       "      <td>1</td>\n",
       "      <td>False</td>\n",
       "      <td>0</td>\n",
       "      <td>False</td>\n",
       "      <td>0</td>\n",
       "    </tr>\n",
       "    <tr>\n",
       "      <th>2017-11-12 19:54:12</th>\n",
       "      <td>False</td>\n",
       "      <td>0</td>\n",
       "      <td>False</td>\n",
       "      <td>0</td>\n",
       "      <td>False</td>\n",
       "      <td>0</td>\n",
       "    </tr>\n",
       "    <tr>\n",
       "      <th>2017-11-12 21:14:44</th>\n",
       "      <td>False</td>\n",
       "      <td>0</td>\n",
       "      <td>False</td>\n",
       "      <td>0</td>\n",
       "      <td>False</td>\n",
       "      <td>0</td>\n",
       "    </tr>\n",
       "    <tr>\n",
       "      <th>2017-11-12 19:30:02</th>\n",
       "      <td>False</td>\n",
       "      <td>0</td>\n",
       "      <td>False</td>\n",
       "      <td>0</td>\n",
       "      <td>False</td>\n",
       "      <td>0</td>\n",
       "    </tr>\n",
       "    <tr>\n",
       "      <th>2017-11-13 01:16:16</th>\n",
       "      <td>False</td>\n",
       "      <td>0</td>\n",
       "      <td>False</td>\n",
       "      <td>0</td>\n",
       "      <td>False</td>\n",
       "      <td>0</td>\n",
       "    </tr>\n",
       "    <tr>\n",
       "      <th>2017-11-13 01:50:12</th>\n",
       "      <td>False</td>\n",
       "      <td>0</td>\n",
       "      <td>False</td>\n",
       "      <td>0</td>\n",
       "      <td>False</td>\n",
       "      <td>0</td>\n",
       "    </tr>\n",
       "    <tr>\n",
       "      <th>2017-11-13 04:44:51</th>\n",
       "      <td>False</td>\n",
       "      <td>0</td>\n",
       "      <td>False</td>\n",
       "      <td>0</td>\n",
       "      <td>False</td>\n",
       "      <td>0</td>\n",
       "    </tr>\n",
       "    <tr>\n",
       "      <th>2017-11-13 04:44:51</th>\n",
       "      <td>False</td>\n",
       "      <td>0</td>\n",
       "      <td>False</td>\n",
       "      <td>0</td>\n",
       "      <td>True</td>\n",
       "      <td>1</td>\n",
       "    </tr>\n",
       "    <tr>\n",
       "      <th>2017-11-13 04:21:34</th>\n",
       "      <td>False</td>\n",
       "      <td>0</td>\n",
       "      <td>False</td>\n",
       "      <td>0</td>\n",
       "      <td>False</td>\n",
       "      <td>0</td>\n",
       "    </tr>\n",
       "    <tr>\n",
       "      <th>2017-11-12 23:20:42</th>\n",
       "      <td>False</td>\n",
       "      <td>0</td>\n",
       "      <td>False</td>\n",
       "      <td>0</td>\n",
       "      <td>False</td>\n",
       "      <td>0</td>\n",
       "    </tr>\n",
       "    <tr>\n",
       "      <th>2017-11-13 14:00:01</th>\n",
       "      <td>False</td>\n",
       "      <td>0</td>\n",
       "      <td>False</td>\n",
       "      <td>0</td>\n",
       "      <td>False</td>\n",
       "      <td>0</td>\n",
       "    </tr>\n",
       "    <tr>\n",
       "      <th>2017-11-13 20:40:53</th>\n",
       "      <td>False</td>\n",
       "      <td>0</td>\n",
       "      <td>False</td>\n",
       "      <td>0</td>\n",
       "      <td>False</td>\n",
       "      <td>0</td>\n",
       "    </tr>\n",
       "    <tr>\n",
       "      <th>2017-11-13 18:00:01</th>\n",
       "      <td>False</td>\n",
       "      <td>0</td>\n",
       "      <td>False</td>\n",
       "      <td>0</td>\n",
       "      <td>False</td>\n",
       "      <td>0</td>\n",
       "    </tr>\n",
       "  </tbody>\n",
       "</table>\n",
       "</div>"
      ],
      "text/plain": [
       "                     comments_disabled  comments_disabled_int  \\\n",
       "publish_time                                                    \n",
       "2017-11-13 06:06:22              False                      0   \n",
       "2017-11-13 05:11:58              False                      0   \n",
       "2017-11-13 17:00:02              False                      0   \n",
       "2017-11-13 03:47:10              False                      0   \n",
       "2017-11-13 19:17:48              False                      0   \n",
       "2017-11-12 20:17:38              False                      0   \n",
       "2017-11-13 07:00:03              False                      0   \n",
       "2017-11-13 06:18:23               True                      1   \n",
       "2017-11-12 19:54:12              False                      0   \n",
       "2017-11-12 21:14:44              False                      0   \n",
       "2017-11-12 19:30:02              False                      0   \n",
       "2017-11-13 01:16:16              False                      0   \n",
       "2017-11-13 01:50:12              False                      0   \n",
       "2017-11-13 04:44:51              False                      0   \n",
       "2017-11-13 04:44:51              False                      0   \n",
       "2017-11-13 04:21:34              False                      0   \n",
       "2017-11-12 23:20:42              False                      0   \n",
       "2017-11-13 14:00:01              False                      0   \n",
       "2017-11-13 20:40:53              False                      0   \n",
       "2017-11-13 18:00:01              False                      0   \n",
       "\n",
       "                     ratings_disabled  ratings_disabled_int  \\\n",
       "publish_time                                                  \n",
       "2017-11-13 06:06:22             False                     0   \n",
       "2017-11-13 05:11:58             False                     0   \n",
       "2017-11-13 17:00:02             False                     0   \n",
       "2017-11-13 03:47:10             False                     0   \n",
       "2017-11-13 19:17:48             False                     0   \n",
       "2017-11-12 20:17:38             False                     0   \n",
       "2017-11-13 07:00:03             False                     0   \n",
       "2017-11-13 06:18:23             False                     0   \n",
       "2017-11-12 19:54:12             False                     0   \n",
       "2017-11-12 21:14:44             False                     0   \n",
       "2017-11-12 19:30:02             False                     0   \n",
       "2017-11-13 01:16:16             False                     0   \n",
       "2017-11-13 01:50:12             False                     0   \n",
       "2017-11-13 04:44:51             False                     0   \n",
       "2017-11-13 04:44:51             False                     0   \n",
       "2017-11-13 04:21:34             False                     0   \n",
       "2017-11-12 23:20:42             False                     0   \n",
       "2017-11-13 14:00:01             False                     0   \n",
       "2017-11-13 20:40:53             False                     0   \n",
       "2017-11-13 18:00:01             False                     0   \n",
       "\n",
       "                     video_error_or_removed  video_error_or_removed_int  \n",
       "publish_time                                                             \n",
       "2017-11-13 06:06:22                   False                           0  \n",
       "2017-11-13 05:11:58                   False                           0  \n",
       "2017-11-13 17:00:02                   False                           0  \n",
       "2017-11-13 03:47:10                   False                           0  \n",
       "2017-11-13 19:17:48                   False                           0  \n",
       "2017-11-12 20:17:38                   False                           0  \n",
       "2017-11-13 07:00:03                   False                           0  \n",
       "2017-11-13 06:18:23                   False                           0  \n",
       "2017-11-12 19:54:12                   False                           0  \n",
       "2017-11-12 21:14:44                   False                           0  \n",
       "2017-11-12 19:30:02                   False                           0  \n",
       "2017-11-13 01:16:16                   False                           0  \n",
       "2017-11-13 01:50:12                   False                           0  \n",
       "2017-11-13 04:44:51                   False                           0  \n",
       "2017-11-13 04:44:51                    True                           1  \n",
       "2017-11-13 04:21:34                   False                           0  \n",
       "2017-11-12 23:20:42                   False                           0  \n",
       "2017-11-13 14:00:01                   False                           0  \n",
       "2017-11-13 20:40:53                   False                           0  \n",
       "2017-11-13 18:00:01                   False                           0  "
      ]
     },
     "execution_count": 163,
     "metadata": {},
     "output_type": "execute_result"
    }
   ],
   "source": [
    "for col in ['comments_disabled', 'ratings_disabled', 'video_error_or_removed']:\n",
    "    data_mx[col + '_int'] = data_mx[col].astype(int)\n",
    "    \n",
    "\n",
    "data_mx[\n",
    "    ['comments_disabled', 'comments_disabled_int','ratings_disabled', 'ratings_disabled_int', 'video_error_or_removed', 'video_error_or_removed_int']\n",
    "].head(20)"
   ]
  },
  {
   "cell_type": "code",
   "execution_count": null,
   "metadata": {},
   "outputs": [],
   "source": []
  }
 ],
 "metadata": {
  "kernelspec": {
   "display_name": "Python 3",
   "language": "python",
   "name": "python3"
  },
  "language_info": {
   "codemirror_mode": {
    "name": "ipython",
    "version": 3
   },
   "file_extension": ".py",
   "mimetype": "text/x-python",
   "name": "python",
   "nbconvert_exporter": "python",
   "pygments_lexer": "ipython3",
   "version": "3.6.5"
  }
 },
 "nbformat": 4,
 "nbformat_minor": 2
}
