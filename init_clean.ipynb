{
 "cells": [
  {
   "cell_type": "markdown",
   "metadata": {},
   "source": [
    "<center>\n",
    "<img src='data/logo.png'>\n",
    "</center>"
   ]
  },
  {
   "cell_type": "markdown",
   "metadata": {},
   "source": [
    "# ¿ QUIEN SOY ?"
   ]
  },
  {
   "cell_type": "markdown",
   "metadata": {},
   "source": [
    "# https://www.linkedin.com/in/victor-villacorta-plasencia-9595a2125/"
   ]
  },
  {
   "cell_type": "markdown",
   "metadata": {},
   "source": [
    "<center>\n",
    "<img src='https://s3.us-east-2.amazonaws.com/quipuai.com/logoquipu.png' width='300'>\n",
    "</center>"
   ]
  },
  {
   "cell_type": "code",
   "execution_count": null,
   "metadata": {},
   "outputs": [],
   "source": []
  },
  {
   "cell_type": "markdown",
   "metadata": {},
   "source": [
    "# LIMPIEZA DE DATOS"
   ]
  },
  {
   "cell_type": "code",
   "execution_count": null,
   "metadata": {},
   "outputs": [],
   "source": [
    "# nativos\n",
    "import os\n",
    "import gc\n",
    "\n",
    "# manejo de datos\n",
    "import pandas as pd\n",
    "import numpy as np\n",
    "\n",
    "subfolder = \"data\"\n",
    "print(os.listdir(subfolder))\n",
    "\n",
    "gc.collect()"
   ]
  },
  {
   "cell_type": "markdown",
   "metadata": {},
   "source": [
    "### 1ERO NOCIONES DE PYTHON CLARAS"
   ]
  },
  {
   "cell_type": "code",
   "execution_count": null,
   "metadata": {},
   "outputs": [],
   "source": [
    "def calculadora(*args, **kwargs):\n",
    "    operacion = kwargs.get('operacion', 'suma')\n",
    "    \n",
    "    if len(args) < 2:\n",
    "        return 'Debe ingresar dos valores como minimo'\n",
    "\n",
    "    val1 = args[0]\n",
    "    val2 = args[1]\n",
    "    \n",
    "    if operacion == 'suma':\n",
    "        return sum(args)\n",
    "    elif operacion == 'resta':\n",
    "        return val1 - val2\n",
    "    elif operacion == 'division':\n",
    "        return val1 / val2\n",
    "    elif operacion == 'multiplicacion':\n",
    "        return val1 * val2\n",
    "    else:\n",
    "        return 'Operador no identificado'\n",
    "\n",
    "calculadora(5, operacion='division')"
   ]
  },
  {
   "cell_type": "code",
   "execution_count": null,
   "metadata": {},
   "outputs": [],
   "source": [
    "calculadora(14, 3, operacion='suma')"
   ]
  },
  {
   "cell_type": "code",
   "execution_count": null,
   "metadata": {},
   "outputs": [],
   "source": [
    "calculadora(14, 3, operacion='loqueesea')"
   ]
  },
  {
   "cell_type": "code",
   "execution_count": null,
   "metadata": {},
   "outputs": [],
   "source": [
    "# DICCIONARIO COMO CONDICIONAL\n",
    "\n",
    "def suma(x, y):\n",
    "    return x + y\n",
    "\n",
    "dicc_calc = {\n",
    "    'suma': suma,\n",
    "    'resta': lambda x, y: x -y,\n",
    "    'division': lambda x, y: x / y,\n",
    "    'multiplicacion': lambda x, y: x * y\n",
    "}\n",
    "\n",
    "\n",
    "def calc(val1, val2, operacion='suma'):\n",
    "    \"\"\"\n",
    "    Descripcion de mi funcion\n",
    "    \"\"\"\n",
    "    return dicc_calc.get(\n",
    "        operacion, lambda x,y: 'Operador no reconocido'\n",
    "    )(val1, val2)\n",
    "\n",
    "calc(6, 7)"
   ]
  },
  {
   "cell_type": "code",
   "execution_count": null,
   "metadata": {},
   "outputs": [],
   "source": [
    "calc(6, 7, 'sumaaaaaaaaaaaaaaaa')"
   ]
  },
  {
   "cell_type": "code",
   "execution_count": null,
   "metadata": {},
   "outputs": [],
   "source": [
    "help(calc)"
   ]
  },
  {
   "cell_type": "markdown",
   "metadata": {},
   "source": [
    "# 2DO LECTURA DE CVS"
   ]
  },
  {
   "cell_type": "code",
   "execution_count": null,
   "metadata": {},
   "outputs": [],
   "source": [
    "data_mx = pd.read_csv('data/MXvideos.csv')"
   ]
  },
  {
   "cell_type": "markdown",
   "metadata": {},
   "source": [
    "### ¿Porque fallo?"
   ]
  },
  {
   "cell_type": "markdown",
   "metadata": {},
   "source": [
    "#### revisar link https://es.wikipedia.org/wiki/Codificaci%C3%B3n_de_caracteres"
   ]
  },
  {
   "cell_type": "code",
   "execution_count": null,
   "metadata": {},
   "outputs": [],
   "source": [
    "data_mx = pd.read_csv('data/MXvideos.csv', encoding='ISO-8859-1')\n",
    "data_mx.head()"
   ]
  },
  {
   "cell_type": "markdown",
   "metadata": {},
   "source": [
    "# Ensuciando data"
   ]
  },
  {
   "cell_type": "code",
   "execution_count": null,
   "metadata": {},
   "outputs": [],
   "source": [
    "# MASTER CHEF\n",
    "indices_master_chef = data_mx.loc[\n",
    "    data_mx['channel_title'] == 'MasterChef 2017', 'channel_title'\n",
    "].index[:-10]\n",
    "\n",
    "data_mx.loc[indices_master_chef, 'channel_title'] = 'Masterchef 2017'\n",
    "\n",
    "data_mx['id_grupo'] = 1"
   ]
  },
  {
   "cell_type": "markdown",
   "metadata": {},
   "source": [
    "### SIZE"
   ]
  },
  {
   "cell_type": "code",
   "execution_count": null,
   "metadata": {},
   "outputs": [],
   "source": [
    "data_mx.shape"
   ]
  },
  {
   "cell_type": "code",
   "execution_count": null,
   "metadata": {},
   "outputs": [],
   "source": [
    "data_mx.dtypes"
   ]
  },
  {
   "cell_type": "code",
   "execution_count": null,
   "metadata": {},
   "outputs": [],
   "source": [
    "data_mx.isnull().any()"
   ]
  },
  {
   "cell_type": "code",
   "execution_count": null,
   "metadata": {},
   "outputs": [],
   "source": [
    "data_mx.isnull().sum(axis=0)"
   ]
  },
  {
   "cell_type": "markdown",
   "metadata": {},
   "source": [
    "### Y so lo juntamos ???"
   ]
  },
  {
   "cell_type": "markdown",
   "metadata": {},
   "source": [
    "### ver link https://github.com/kendalvictor/guia_data_ML/blob/master/ANALISIS%20DE%20NULOS%20%20read_csv%2C%20isnull%2C%20any%2C%20sum%2C%20concat.ipynb"
   ]
  },
  {
   "cell_type": "markdown",
   "metadata": {},
   "source": [
    "### COMO SE VEN LOS NULOS ?"
   ]
  },
  {
   "cell_type": "code",
   "execution_count": null,
   "metadata": {},
   "outputs": [],
   "source": [
    "import missingno as msno\n",
    "\n",
    "#grafico\n",
    "import matplotlib.pyplot as plt\n",
    "import seaborn as sns\n",
    "from IPython.display import display\n",
    "%matplotlib inline\n",
    "sns.set(style=\"whitegrid\")\n",
    "\n",
    "msno.matrix(data_mx)"
   ]
  },
  {
   "cell_type": "markdown",
   "metadata": {},
   "source": [
    "### VERIFICAR COLUMNAS CONSTANTES"
   ]
  },
  {
   "cell_type": "markdown",
   "metadata": {},
   "source": [
    "### Es necesario tengamos nocion de los valores unicos por columna"
   ]
  },
  {
   "cell_type": "code",
   "execution_count": null,
   "metadata": {},
   "outputs": [],
   "source": [
    "for col in data_mx.columns:\n",
    "    print(col, data_mx[col].unique().shape[0])\n",
    "\n",
    "data_mx.shape"
   ]
  },
  {
   "cell_type": "markdown",
   "metadata": {},
   "source": [
    "### MasterChef ?? "
   ]
  },
  {
   "cell_type": "code",
   "execution_count": null,
   "metadata": {},
   "outputs": [],
   "source": [
    "list_values_master_chef = [_ for _ in data_mx['channel_title'].unique() if 'Master' in _]\n",
    "print(list_values_master_chef)\n",
    "len(list_values_master_chef)"
   ]
  },
  {
   "cell_type": "code",
   "execution_count": null,
   "metadata": {},
   "outputs": [],
   "source": [
    "[_ for _ in data_mx['channel_title'].unique() if 'MaStEr' in _]"
   ]
  },
  {
   "cell_type": "code",
   "execution_count": null,
   "metadata": {},
   "outputs": [],
   "source": [
    "[_ for _ in data_mx['channel_title'].unique() if 'master' in _]"
   ]
  },
  {
   "cell_type": "markdown",
   "metadata": {},
   "source": [
    "### 3 OPCIONES"
   ]
  },
  {
   "cell_type": "markdown",
   "metadata": {},
   "source": [
    "#### >>>>>>>>>>>>> 1- SLUGYFI https://github.com/un33k/python-slugify"
   ]
  },
  {
   "cell_type": "code",
   "execution_count": null,
   "metadata": {},
   "outputs": [],
   "source": [
    "from slugify import slugify"
   ]
  },
  {
   "cell_type": "code",
   "execution_count": null,
   "metadata": {},
   "outputs": [],
   "source": [
    "text_prueba = 'frggtgá9riori AAAAoeio-_@'\n",
    "slugify(text_prueba)"
   ]
  },
  {
   "cell_type": "code",
   "execution_count": null,
   "metadata": {},
   "outputs": [],
   "source": [
    "data_mx['channel_title_1'] = data_mx['channel_title'].apply(lambda _: slugify(_))\n",
    "\n",
    "list_values_master_chef = [_ for _ in data_mx['channel_title_1'].unique() if 'master' in _]\n",
    "print(list_values_master_chef)\n",
    "len(list_values_master_chef)"
   ]
  },
  {
   "cell_type": "code",
   "execution_count": null,
   "metadata": {},
   "outputs": [],
   "source": [
    "for col in data_mx.columns:\n",
    "    print(col, data_mx[col].unique().shape[0])"
   ]
  },
  {
   "cell_type": "markdown",
   "metadata": {},
   "source": [
    "#### >>>>>>>>>>>>> 2- UNICODE DATA https://docs.python.org/3/library/unicodedata.html"
   ]
  },
  {
   "cell_type": "code",
   "execution_count": null,
   "metadata": {},
   "outputs": [],
   "source": [
    "from unicodedata import normalize, category\n",
    "\n",
    "def clean_text(val):\n",
    "    return ''.join(\n",
    "        [_ for _ in normalize('NFD', val.lower()) if category(_) in ['Ll', 'Nd', 'Zs']]\n",
    "    )\n",
    "    return val\n",
    "\n",
    "data_mx['channel_title_2'] = data_mx['channel_title'].apply(clean_text)\n",
    "\n",
    "list_values_master_chef = [_ for _ in data_mx['channel_title_2'].unique() if 'master' in _]\n",
    "print(list_values_master_chef)\n",
    "len(list_values_master_chef)"
   ]
  },
  {
   "cell_type": "markdown",
   "metadata": {},
   "source": [
    "#### >>>>>>>>>>>>> 3- ORD https://www.programiz.com/python-programming/methods/built-in/ord"
   ]
  },
  {
   "cell_type": "code",
   "execution_count": null,
   "metadata": {},
   "outputs": [],
   "source": [
    "def clean_for_ord(val):\n",
    "    return ''.join(\n",
    "        [_ for _ in val.lower() if ord(_) < 128]\n",
    "    )\n",
    "\n",
    "data_mx['channel_title_3'] = data_mx['channel_title'].apply(clean_for_ord)\n",
    "\n",
    "list_values_master_chef = [_ for _ in data_mx['channel_title_3'].unique() if 'master' in _]\n",
    "print(list_values_master_chef)\n",
    "len(list_values_master_chef)"
   ]
  },
  {
   "cell_type": "markdown",
   "metadata": {},
   "source": [
    "### COMPARE"
   ]
  },
  {
   "cell_type": "markdown",
   "metadata": {},
   "source": [
    "### LA IDEA FINAL ES QUE CUANDO LOS VALORES VENGAN DE OTRA BASE DE DATOS O FUENTE CON ESTA TRANSFORMACION SE IGUALEN"
   ]
  },
  {
   "cell_type": "code",
   "execution_count": null,
   "metadata": {},
   "outputs": [],
   "source": [
    "data_mx[['channel_title','channel_title_1', 'channel_title_2', 'channel_title_3']].head(20)"
   ]
  },
  {
   "cell_type": "code",
   "execution_count": null,
   "metadata": {},
   "outputs": [],
   "source": [
    "for col in ['channel_title','channel_title_1', 'channel_title_2', 'channel_title_3']:\n",
    "    print(col, data_mx[col].unique().shape)"
   ]
  },
  {
   "cell_type": "code",
   "execution_count": null,
   "metadata": {},
   "outputs": [],
   "source": []
  },
  {
   "cell_type": "markdown",
   "metadata": {},
   "source": [
    "# DATES"
   ]
  },
  {
   "cell_type": "markdown",
   "metadata": {},
   "source": [
    "### Tenemos dos columnas fechs y estan siendo tomadas como cadenas de texto"
   ]
  },
  {
   "cell_type": "code",
   "execution_count": null,
   "metadata": {},
   "outputs": [],
   "source": [
    "data_mx.dtypes"
   ]
  },
  {
   "cell_type": "code",
   "execution_count": null,
   "metadata": {},
   "outputs": [],
   "source": [
    "data_mx['publish_time'].head(10)"
   ]
  },
  {
   "cell_type": "code",
   "execution_count": null,
   "metadata": {},
   "outputs": [],
   "source": [
    "data_mx['trending_date'].head(10)"
   ]
  },
  {
   "cell_type": "markdown",
   "metadata": {},
   "source": [
    "### FORMAT https://docs.python.org/3/library/datetime.html#strftime-and-strptime-behavior\n",
    "\n",
    "TO_DATETIME https://pandas.pydata.org/pandas-docs/stable/reference/api/pandas.to_datetime.html"
   ]
  },
  {
   "cell_type": "code",
   "execution_count": null,
   "metadata": {},
   "outputs": [],
   "source": [
    "data_mx['trending_date'] = pd.to_datetime(\n",
    "    data_mx['trending_date'], errors='coerce', format='%y.%d.%m'\n",
    ")\n",
    "data_mx['publish_time'] = pd.to_datetime(\n",
    "    data_mx['publish_time'], errors='coerce', format='%Y-%m-%dT%H:%M:%S.%fZ'\n",
    ")\n",
    "data_mx.dtypes"
   ]
  },
  {
   "cell_type": "code",
   "execution_count": null,
   "metadata": {},
   "outputs": [],
   "source": [
    "data_mx[['publish_time', 'trending_date']].isnull().any()"
   ]
  },
  {
   "cell_type": "markdown",
   "metadata": {},
   "source": [
    "### AHORA YA ES POSIBLE HALLAR LA DIFRENCI ENTRE LA FECHA DE PUBLICACION Y LA FECHA DE TENDENCIA"
   ]
  },
  {
   "cell_type": "code",
   "execution_count": null,
   "metadata": {},
   "outputs": [],
   "source": [
    "def apply_diff_mont(serie_diff):\n",
    "    return (serie_diff / np.timedelta64(1,'D')).round(3)\n",
    "\n",
    "data_mx['diff_date'] = apply_diff_mont(\n",
    "    data_mx['trending_date'] - data_mx['publish_time']\n",
    ")"
   ]
  },
  {
   "cell_type": "code",
   "execution_count": null,
   "metadata": {},
   "outputs": [],
   "source": [
    "data_mx['diff_date'].head(15)"
   ]
  },
  {
   "cell_type": "markdown",
   "metadata": {},
   "source": [
    "## Y PODEMOS HALLAR MAS VARIANTES "
   ]
  },
  {
   "cell_type": "code",
   "execution_count": null,
   "metadata": {},
   "outputs": [],
   "source": [
    "data_mx['weekday_publish'] = data_mx['publish_time'].dt.weekday\n",
    "data_mx['month_publish'] = data_mx['publish_time'].dt.month\n",
    "\n",
    "data_mx[['month_publish', 'weekday_publish']].head(15)"
   ]
  },
  {
   "cell_type": "code",
   "execution_count": null,
   "metadata": {},
   "outputs": [],
   "source": [
    "### INCLUSO APLICAR SERIES DE TIEMPO\n",
    "#grafico\n",
    "import matplotlib.pyplot as plt\n",
    "%matplotlib inline\n",
    "\n",
    "data_mx.index = data_mx.publish_time\n",
    "\n",
    "data_mx.views.sort_index().plot()"
   ]
  },
  {
   "cell_type": "code",
   "execution_count": null,
   "metadata": {},
   "outputs": [],
   "source": [
    "data_mx[data_mx['publish_time'].dt.year >= 2018].views.sort_index().plot()"
   ]
  },
  {
   "cell_type": "markdown",
   "metadata": {},
   "source": [
    "# PASAR LOS BOOLEANOS A ENTEROS"
   ]
  },
  {
   "cell_type": "code",
   "execution_count": null,
   "metadata": {},
   "outputs": [],
   "source": [
    "data_mx.dtypes"
   ]
  },
  {
   "cell_type": "code",
   "execution_count": null,
   "metadata": {},
   "outputs": [],
   "source": [
    "for col in ['comments_disabled', 'ratings_disabled', 'video_error_or_removed']:\n",
    "    data_mx[col + '_int'] = data_mx[col].astype(int)\n",
    "    \n",
    "\n",
    "data_mx[\n",
    "    ['comments_disabled', 'comments_disabled_int','ratings_disabled', 'ratings_disabled_int', 'video_error_or_removed', 'video_error_or_removed_int']\n",
    "].head(20)"
   ]
  },
  {
   "cell_type": "code",
   "execution_count": null,
   "metadata": {},
   "outputs": [],
   "source": [
    "def get_memory_usage(data, deep=True):\n",
    "    return '{} MB'.format(data.memory_usage(deep=deep).sum() / 1024 ** 2)"
   ]
  },
  {
   "cell_type": "code",
   "execution_count": null,
   "metadata": {},
   "outputs": [],
   "source": [
    "def reduce_size_data(df, category=False, default=''):\n",
    "    print(\"INITIAL SIZE : DEEP\", get_memory_usage(df), \"REAL\", get_memory_usage(df, deep=False))\n",
    "    # print(\"-> Int 64 Detected\")\n",
    "    for col in df.select_dtypes(include=['int']).columns:\n",
    "        # print(\" \"*4, col)\n",
    "        df[col] = pd.to_numeric(arg=df[col], downcast=default or'integer')\n",
    "    \n",
    "    # print(\"-> Float 64 Detected\")\n",
    "    for col in df.select_dtypes(include=['float']).columns:\n",
    "        # print(\" \"*4, col)\n",
    "        df[col] = pd.to_numeric(arg=df[col], downcast=default or'float')\n",
    "    \n",
    "    if category:\n",
    "        for col in df.select_dtypes(include=['object']).columns:\n",
    "            if len(df[col].unique()) / len(df[col]) < 0.5:\n",
    "                df[col] = df[col].astype('category')\n",
    "                \n",
    "    print(\"FINAL SIZE : DEPP\", get_memory_usage(df), \"REAL\", get_memory_usage(df, deep=False))               \n",
    "    return df"
   ]
  },
  {
   "cell_type": "code",
   "execution_count": null,
   "metadata": {},
   "outputs": [],
   "source": [
    "data_mx = reduce_size_data(data_mx)"
   ]
  },
  {
   "cell_type": "code",
   "execution_count": null,
   "metadata": {},
   "outputs": [],
   "source": []
  }
 ],
 "metadata": {
  "kernelspec": {
   "display_name": "Python 3",
   "language": "python",
   "name": "python3"
  },
  "language_info": {
   "codemirror_mode": {
    "name": "ipython",
    "version": 3
   },
   "file_extension": ".py",
   "mimetype": "text/x-python",
   "name": "python",
   "nbconvert_exporter": "python",
   "pygments_lexer": "ipython3",
   "version": "3.6.5"
  }
 },
 "nbformat": 4,
 "nbformat_minor": 2
}
